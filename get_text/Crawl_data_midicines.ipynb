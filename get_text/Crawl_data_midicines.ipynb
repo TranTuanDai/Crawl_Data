{
 "cells": [
  {
   "cell_type": "code",
   "execution_count": 2,
   "metadata": {},
   "outputs": [
    {
     "name": "stderr",
     "output_type": "stream",
     "text": [
      "c:\\Users\\123\\AppData\\Local\\Programs\\Python\\Python311\\Lib\\site-packages\\thefuzz\\fuzz.py:11: UserWarning: Using slow pure-python SequenceMatcher. Install python-Levenshtein to remove this warning\n",
      "  warnings.warn('Using slow pure-python SequenceMatcher. Install python-Levenshtein to remove this warning')\n",
      "c:\\Users\\123\\AppData\\Local\\Programs\\Python\\Python311\\Lib\\site-packages\\fuzzywuzzy\\fuzz.py:11: UserWarning: Using slow pure-python SequenceMatcher. Install python-Levenshtein to remove this warning\n",
      "  warnings.warn('Using slow pure-python SequenceMatcher. Install python-Levenshtein to remove this warning')\n"
     ]
    }
   ],
   "source": [
    "import requests\n",
    "from bs4 import BeautifulSoup\n",
    "import re\n",
    "import pandas as pd\n",
    "import io\n",
    "from math import sin, cos, sqrt, atan2, radians\n",
    "from math import radians, cos, sin, asin, sqrt\n",
    "import matplotlib.pyplot as plt\n",
    "from csv import reader\n",
    "import sys\n",
    "from bs4 import BeautifulSoup\n",
    "from flatten_json import flatten\n",
    "import json\n",
    "from thefuzz import fuzz\n",
    "from fuzzywuzzy import fuzz\n",
    "from deep_translator import GoogleTranslator"
   ]
  },
  {
   "cell_type": "code",
   "execution_count": 3,
   "metadata": {},
   "outputs": [],
   "source": [
    "URL_AZ = pd.DataFrame()\n",
    "URL_AZ = []\n",
    "URL_CP_ALL = []\n",
    "URL_CP = []\n",
    "URL_DT = []\n",
    "URL_TEST = []\n",
    "Product_name=[]\n",
    "Compound_name=[]\n",
    "_url = 'https://www.medicines.org.uk/emc/browse-ingredients'\n",
    "df=pd.DataFrame()\n",
    "Indication=[]\n",
    "Contrain=[]\n",
    "Special_warnings=[]\n",
    "Side_Effect=[]\n",
    "gt = GoogleTranslator(source='en', target='vi')"
   ]
  },
  {
   "cell_type": "code",
   "execution_count": 4,
   "metadata": {},
   "outputs": [
    {
     "name": "stdout",
     "output_type": "stream",
     "text": [
      "27\n"
     ]
    }
   ],
   "source": [
    "#Lây url từ a đến z , sau đó thêm vào list URL_AZ\n",
    "soup = BeautifulSoup(requests.get(_url).text, 'html.parser')\n",
    "_a = soup.find_all(attrs={\"class\": \"emc-link\"})\n",
    "for a in _a:\n",
    "    ref =  a.get('href','')\n",
    "    if '/browse-ingredients/' in ref:\n",
    "        url_ = 'https://www.medicines.org.uk' + ref\n",
    "        URL_AZ.append(url_)\n",
    "print(len(URL_AZ))\n"
   ]
  },
  {
   "cell_type": "code",
   "execution_count": 248,
   "metadata": {},
   "outputs": [],
   "source": [
    "CLEANR = re.compile('<.*?>|&([a-z0-9]+|#[0-9]{1,6}|#x[0-9a-f]{1,6});')\n",
    "def cleanhtml(raw_html):\n",
    "  cleantext = re.sub(CLEANR, '', raw_html)\n",
    "  return cleantext"
   ]
  },
  {
   "cell_type": "code",
   "execution_count": 249,
   "metadata": {},
   "outputs": [
    {
     "name": "stdout",
     "output_type": "stream",
     "text": [
      "171\n"
     ]
    }
   ],
   "source": [
    "# Lấy ví dụ  1 trang đầu tiên là Page A\n",
    "# for i in range(1,len(URL_AZ)):\n",
    "soup_1 = BeautifulSoup(requests.get(URL_AZ[1]).text, 'html.parser')\n",
    "page_a = soup_1.find_all(attrs={\"class\": \"emc-link\"})\n",
    "for a in page_a:\n",
    "    ref_1 =  a.get('href','')\n",
    "    if '/ingredient/' in ref_1:\n",
    "        url_1 = 'https://www.medicines.org.uk' + ref_1\n",
    "        URL_CP_ALL.append(url_1)\n",
    "print(len(URL_CP_ALL))\n",
    "    "
   ]
  },
  {
   "cell_type": "code",
   "execution_count": 250,
   "metadata": {},
   "outputs": [
    {
     "name": "stdout",
     "output_type": "stream",
     "text": [
      "Len của URL_DT 905\n",
      "Len của Product_Name 905\n",
      "Len của Compound_Name 905\n"
     ]
    }
   ],
   "source": [
    "# Lấy mẫu dược chất đầu tiên trong list URL_CP_ALL\n",
    "for i in range(len(URL_CP_ALL)):\n",
    "    soup_2 = BeautifulSoup(requests.get(URL_CP_ALL[i]).text, 'html.parser')\n",
    "    _c = soup_2.find_all(attrs={\"class\": \"search-results-product-info-title-link emc-link\"})\n",
    "    _detail = soup_2.find_all(attrs={\"class\": \"search-results-product-info-type emc-text-default\"})\n",
    "    for c in _c:\n",
    "        ref_2 = c.get('href','')\n",
    "        if '/emc/product/' in ref_2:\n",
    "            url_2 = 'https://www.medicines.org.uk' + ref_2\n",
    "            URL_DT.append(url_2)\n",
    "    for c in _c:\n",
    "        Product_name.append(cleanhtml(str(c)).strip())\n",
    "    for d in _detail:\n",
    "        Compound_name.append(cleanhtml(str(d)).strip())\n",
    "print('Len của URL_DT',len(URL_DT))\n",
    "print('Len của Product_Name',len(Product_name))\n",
    "print('Len của Compound_Name',len(Compound_name))"
   ]
  },
  {
   "cell_type": "code",
   "execution_count": 251,
   "metadata": {},
   "outputs": [
    {
     "name": "stdout",
     "output_type": "stream",
     "text": [
      "Len của Indication 835\n",
      "Len của Contrain 835\n",
      "Len của Special_warnings 835\n",
      "Len của Side_Effect 835\n"
     ]
    }
   ],
   "source": [
    "\n",
    "for i in range(len(URL_DT)):\n",
    "    soup_3 = BeautifulSoup(requests.get(URL_DT[i]).text, 'html.parser')\n",
    "    elements = soup_3.find_all(class_='spcWrapper')\n",
    "    div_wrapper = soup_3.find('div', class_='spcWrapper')\n",
    "    \n",
    "    indication_41=soup_3.find(id='INDICATIONS')\n",
    "    side_effect_48=soup_3.find(id='UNDESIRABLE_EFFECTS')\n",
    "    contrai_43=soup_3.find(id='CONTRAINDICATIONS')\n",
    "    contrai_44=soup_3.find(id='CLINICAL_PRECAUTIONS')\n",
    "    if indication_41 is not None or side_effect_48 is not None or contrai_43 is not None or contrai_44 is not None:\n",
    "        contrain_Wrapper_43 = contrai_43.find_next_siblings(class_=\"sectionWrapper\")\n",
    "        contrain_Wrapper_44 = side_effect_48.find_next_siblings(class_=\"sectionWrapper\")\n",
    "        indication_Wrapper_41 = indication_41.find_next_siblings(class_=\"sectionWrapper\")\n",
    "        side_effect_Wrapper_48 = contrai_44.find_next_siblings(class_=\"sectionWrapper\")\n",
    "\n",
    "\n",
    "        wrapper_43=cleanhtml(str(contrain_Wrapper_43))\n",
    "        wrapper_44=cleanhtml(str(contrain_Wrapper_44))\n",
    "        wrapper_41=cleanhtml(str(indication_Wrapper_41))\n",
    "        wrapper_48=cleanhtml(str(side_effect_Wrapper_48))\n",
    "\n",
    "\n",
    "        wrapper_43_ = wrapper_43.replace(\"[\", \"\").replace(\"]\", \"\").strip()\n",
    "        wrapper_44_ = wrapper_44.replace(\"[\", \"\").replace(\"]\", \"\").strip()\n",
    "        wrapper_41_ = wrapper_41.replace(\"[\", \"\").replace(\"]\", \"\").strip()\n",
    "        wrapper_48_ = wrapper_48.replace(\"[\", \"\").replace(\"]\", \"\").strip()\n",
    "\n",
    "\n",
    "        Indication.append(wrapper_41_)\n",
    "        Contrain.append(wrapper_43_)\n",
    "        Special_warnings.append(wrapper_44_)\n",
    "        Side_Effect.append(wrapper_48_)\n",
    "    else:\n",
    "        pass\n",
    "    \n",
    "\n",
    "print('Len của Indication',len(Indication))\n",
    "print('Len của Contrain',len(Contrain))\n",
    "print('Len của Special_warnings',len(Special_warnings))\n",
    "print('Len của Side_Effect',len(Side_Effect))\n",
    "\n"
   ]
  },
  {
   "cell_type": "code",
   "execution_count": null,
   "metadata": {},
   "outputs": [],
   "source": [
    "df['Compound_Name']=Compound_name\n",
    "df['Product_Name']=Product_name\n",
    "df['Indication']=Indication\n",
    "df['Contraindication']=Contrain\n",
    "df['Special_warnings']=Special_warnings\n",
    "df['Side_Effect']=Side_Effect"
   ]
  },
  {
   "cell_type": "code",
   "execution_count": 162,
   "metadata": {},
   "outputs": [
    {
     "data": {
      "text/html": [
       "<div>\n",
       "<style scoped>\n",
       "    .dataframe tbody tr th:only-of-type {\n",
       "        vertical-align: middle;\n",
       "    }\n",
       "\n",
       "    .dataframe tbody tr th {\n",
       "        vertical-align: top;\n",
       "    }\n",
       "\n",
       "    .dataframe thead th {\n",
       "        text-align: right;\n",
       "    }\n",
       "</style>\n",
       "<table border=\"1\" class=\"dataframe\">\n",
       "  <thead>\n",
       "    <tr style=\"text-align: right;\">\n",
       "      <th></th>\n",
       "      <th>Compound_Name</th>\n",
       "      <th>Product_Name</th>\n",
       "      <th>Indication</th>\n",
       "      <th>Contraindication</th>\n",
       "      <th>Special_warnings</th>\n",
       "      <th>Side_Effect</th>\n",
       "    </tr>\n",
       "  </thead>\n",
       "  <tbody>\n",
       "    <tr>\n",
       "      <th>0</th>\n",
       "      <td>abacavir</td>\n",
       "      <td>Abacavir 300 mg Film-Coated Tablets</td>\n",
       "      <td>Abacavir is indicated in antiretroviral combin...</td>\n",
       "      <td>Hypersensitivity to abacavir or to any of the ...</td>\n",
       "      <td>For many adverse reactions reported, it is unc...</td>\n",
       "      <td>Hypersensitivity reactions (see also section 4...</td>\n",
       "    </tr>\n",
       "    <tr>\n",
       "      <th>1</th>\n",
       "      <td>abacavir</td>\n",
       "      <td>Abacavir Mylan 300 mg Film-coated Tablets</td>\n",
       "      <td>Abacavir Mylan is indicated in antiretroviral ...</td>\n",
       "      <td>Hypersensitivity to the active substance or to...</td>\n",
       "      <td>For many adverse reactions reported, it is unc...</td>\n",
       "      <td>Hypersensitivity reactions (see also section 4...</td>\n",
       "    </tr>\n",
       "    <tr>\n",
       "      <th>2</th>\n",
       "      <td>lamivudine, abacavir</td>\n",
       "      <td>Abacavir/Lamivudine 600 mg/300 mg film-coated ...</td>\n",
       "      <td>Abacavir/Lamivudine is indicated in antiretrov...</td>\n",
       "      <td>Hypersensitivity to the active substances or t...</td>\n",
       "      <td>Summary of the safety profile\\n\\nThe adverse r...</td>\n",
       "      <td>The special warnings and precautions relevant ...</td>\n",
       "    </tr>\n",
       "    <tr>\n",
       "      <th>3</th>\n",
       "      <td>lamivudine, abacavir</td>\n",
       "      <td>Abacavir/Lamivudine Dr. Reddys 600 mg/300 mg F...</td>\n",
       "      <td>Abacavir/Lamivudine is indicated in antiretrov...</td>\n",
       "      <td>Hypersensitivity to the active substances or t...</td>\n",
       "      <td>Summary of the safety profile\\n\\nThe adverse r...</td>\n",
       "      <td>The special warnings and precautions relevant ...</td>\n",
       "    </tr>\n",
       "  </tbody>\n",
       "</table>\n",
       "</div>"
      ],
      "text/plain": [
       "          Compound_Name                                       Product_Name  \\\n",
       "0              abacavir                Abacavir 300 mg Film-Coated Tablets   \n",
       "1              abacavir          Abacavir Mylan 300 mg Film-coated Tablets   \n",
       "2  lamivudine, abacavir  Abacavir/Lamivudine 600 mg/300 mg film-coated ...   \n",
       "3  lamivudine, abacavir  Abacavir/Lamivudine Dr. Reddys 600 mg/300 mg F...   \n",
       "\n",
       "                                          Indication  \\\n",
       "0  Abacavir is indicated in antiretroviral combin...   \n",
       "1  Abacavir Mylan is indicated in antiretroviral ...   \n",
       "2  Abacavir/Lamivudine is indicated in antiretrov...   \n",
       "3  Abacavir/Lamivudine is indicated in antiretrov...   \n",
       "\n",
       "                                    Contraindication  \\\n",
       "0  Hypersensitivity to abacavir or to any of the ...   \n",
       "1  Hypersensitivity to the active substance or to...   \n",
       "2  Hypersensitivity to the active substances or t...   \n",
       "3  Hypersensitivity to the active substances or t...   \n",
       "\n",
       "                                    Special_warnings  \\\n",
       "0  For many adverse reactions reported, it is unc...   \n",
       "1  For many adverse reactions reported, it is unc...   \n",
       "2  Summary of the safety profile\\n\\nThe adverse r...   \n",
       "3  Summary of the safety profile\\n\\nThe adverse r...   \n",
       "\n",
       "                                         Side_Effect  \n",
       "0  Hypersensitivity reactions (see also section 4...  \n",
       "1  Hypersensitivity reactions (see also section 4...  \n",
       "2  The special warnings and precautions relevant ...  \n",
       "3  The special warnings and precautions relevant ...  "
      ]
     },
     "execution_count": 162,
     "metadata": {},
     "output_type": "execute_result"
    }
   ],
   "source": [
    "df"
   ]
  },
  {
   "cell_type": "code",
   "execution_count": 166,
   "metadata": {},
   "outputs": [],
   "source": [
    "df.to_excel('/FRT/19.Contraindication/5.Crawl_data_micidines/1.Data_Crawl/check_2.xlsx')"
   ]
  },
  {
   "cell_type": "code",
   "execution_count": 164,
   "metadata": {},
   "outputs": [
    {
     "data": {
      "text/html": [
       "<div>\n",
       "<style scoped>\n",
       "    .dataframe tbody tr th:only-of-type {\n",
       "        vertical-align: middle;\n",
       "    }\n",
       "\n",
       "    .dataframe tbody tr th {\n",
       "        vertical-align: top;\n",
       "    }\n",
       "\n",
       "    .dataframe thead th {\n",
       "        text-align: right;\n",
       "    }\n",
       "</style>\n",
       "<table border=\"1\" class=\"dataframe\">\n",
       "  <thead>\n",
       "    <tr style=\"text-align: right;\">\n",
       "      <th></th>\n",
       "      <th>Compound_Name</th>\n",
       "      <th>Product_Name</th>\n",
       "      <th>Indication</th>\n",
       "      <th>Contraindication</th>\n",
       "      <th>Special_warnings</th>\n",
       "      <th>Side_Effect</th>\n",
       "    </tr>\n",
       "  </thead>\n",
       "  <tbody>\n",
       "    <tr>\n",
       "      <th>0</th>\n",
       "      <td>abacavir</td>\n",
       "      <td>Abacavir 300 mg Film-Coated Tablets</td>\n",
       "      <td>Abacavir is indicated in antiretroviral combin...</td>\n",
       "      <td>Hypersensitivity to abacavir or to any of the ...</td>\n",
       "      <td>For many adverse reactions reported, it is unc...</td>\n",
       "      <td>Hypersensitivity reactions (see also section 4...</td>\n",
       "    </tr>\n",
       "    <tr>\n",
       "      <th>1</th>\n",
       "      <td>abacavir</td>\n",
       "      <td>Abacavir Mylan 300 mg Film-coated Tablets</td>\n",
       "      <td>Abacavir Mylan is indicated in antiretroviral ...</td>\n",
       "      <td>Hypersensitivity to the active substance or to...</td>\n",
       "      <td>For many adverse reactions reported, it is unc...</td>\n",
       "      <td>Hypersensitivity reactions (see also section 4...</td>\n",
       "    </tr>\n",
       "    <tr>\n",
       "      <th>2</th>\n",
       "      <td>lamivudine, abacavir</td>\n",
       "      <td>Abacavir/Lamivudine 600 mg/300 mg film-coated ...</td>\n",
       "      <td>Abacavir/Lamivudine is indicated in antiretrov...</td>\n",
       "      <td>Hypersensitivity to the active substances or t...</td>\n",
       "      <td>Summary of the safety profile\\n\\nThe adverse r...</td>\n",
       "      <td>The special warnings and precautions relevant ...</td>\n",
       "    </tr>\n",
       "    <tr>\n",
       "      <th>3</th>\n",
       "      <td>lamivudine, abacavir</td>\n",
       "      <td>Abacavir/Lamivudine Dr. Reddys 600 mg/300 mg F...</td>\n",
       "      <td>Abacavir/Lamivudine is indicated in antiretrov...</td>\n",
       "      <td>Hypersensitivity to the active substances or t...</td>\n",
       "      <td>Summary of the safety profile\\n\\nThe adverse r...</td>\n",
       "      <td>The special warnings and precautions relevant ...</td>\n",
       "    </tr>\n",
       "  </tbody>\n",
       "</table>\n",
       "</div>"
      ],
      "text/plain": [
       "          Compound_Name                                       Product_Name  \\\n",
       "0              abacavir                Abacavir 300 mg Film-Coated Tablets   \n",
       "1              abacavir          Abacavir Mylan 300 mg Film-coated Tablets   \n",
       "2  lamivudine, abacavir  Abacavir/Lamivudine 600 mg/300 mg film-coated ...   \n",
       "3  lamivudine, abacavir  Abacavir/Lamivudine Dr. Reddys 600 mg/300 mg F...   \n",
       "\n",
       "                                          Indication  \\\n",
       "0  Abacavir is indicated in antiretroviral combin...   \n",
       "1  Abacavir Mylan is indicated in antiretroviral ...   \n",
       "2  Abacavir/Lamivudine is indicated in antiretrov...   \n",
       "3  Abacavir/Lamivudine is indicated in antiretrov...   \n",
       "\n",
       "                                    Contraindication  \\\n",
       "0  Hypersensitivity to abacavir or to any of the ...   \n",
       "1  Hypersensitivity to the active substance or to...   \n",
       "2  Hypersensitivity to the active substances or t...   \n",
       "3  Hypersensitivity to the active substances or t...   \n",
       "\n",
       "                                    Special_warnings  \\\n",
       "0  For many adverse reactions reported, it is unc...   \n",
       "1  For many adverse reactions reported, it is unc...   \n",
       "2  Summary of the safety profile\\n\\nThe adverse r...   \n",
       "3  Summary of the safety profile\\n\\nThe adverse r...   \n",
       "\n",
       "                                         Side_Effect  \n",
       "0  Hypersensitivity reactions (see also section 4...  \n",
       "1  Hypersensitivity reactions (see also section 4...  \n",
       "2  The special warnings and precautions relevant ...  \n",
       "3  The special warnings and precautions relevant ...  "
      ]
     },
     "execution_count": 164,
     "metadata": {},
     "output_type": "execute_result"
    }
   ],
   "source": [
    "df"
   ]
  },
  {
   "cell_type": "code",
   "execution_count": null,
   "metadata": {},
   "outputs": [],
   "source": []
  }
 ],
 "metadata": {
  "kernelspec": {
   "display_name": "Python 3",
   "language": "python",
   "name": "python3"
  },
  "language_info": {
   "codemirror_mode": {
    "name": "ipython",
    "version": 3
   },
   "file_extension": ".py",
   "mimetype": "text/x-python",
   "name": "python",
   "nbconvert_exporter": "python",
   "pygments_lexer": "ipython3",
   "version": "3.11.1"
  },
  "orig_nbformat": 4
 },
 "nbformat": 4,
 "nbformat_minor": 2
}
