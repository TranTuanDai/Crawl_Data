{
 "cells": [
  {
   "cell_type": "code",
   "execution_count": 21,
   "metadata": {},
   "outputs": [],
   "source": [
    "from selenium import webdriver\n",
    "import pandas as pd\n",
    "from selenium.webdriver.chrome.service import Service\n",
    "from selenium.webdriver.common.by import By\n",
    "from selenium.common.exceptions import TimeoutException\n",
    "import time\n",
    "from selenium.webdriver.support.ui import WebDriverWait\n",
    "from selenium.webdriver.support import expected_conditions as EC\n",
    "from selenium.common.exceptions import NoSuchElementException\n",
    "import re"
   ]
  },
  {
   "cell_type": "code",
   "execution_count": 22,
   "metadata": {},
   "outputs": [],
   "source": [
    "pd.set_option('display.max_columns',40)\n",
    "options = webdriver.ChromeOptions()\n",
    "options.add_argument('start-maximized')\n",
    "options.add_argument('disable-infobars')\n",
    "options.add_argument('--disable-extensions')\n",
    "options.add_argument(\"--disable-gpu\")\n",
    "\n",
    "df=pd.DataFrame()\n",
    "Compound_Name=[]\n",
    "Attibute_Name=[]\n",
    "Custome_Value=[]\n",
    "tille_index=[]\n",
    "pattern = r'\\d+\\.\\s(.*)'\n",
    "timeout=10\n",
    "url = f'https://vinmec.com/vi/thong-tin-duoc/su-dung-thuoc-toan/?page='"
   ]
  },
  {
   "cell_type": "code",
   "execution_count": 23,
   "metadata": {},
   "outputs": [],
   "source": [
    "service = Service('/ChromeDriver/chromedriver_win32/chromedriver.exe')\n",
    "driver = webdriver.Chrome(service=service,options=options)\n",
    "def get_Url(url,index_page):\n",
    "    while True:\n",
    "        try:\n",
    "            url_page =url+index_page\n",
    "            driver.get(url_page)\n",
    "            \n",
    "            div_content=driver.find_element(By.XPATH,'/html/body/div[2]/div/div[2]/div[4]')\n",
    "            ul_tags=div_content.find_element(By.TAG_NAME,'ul')\n",
    "            li_tags=ul_tags.find_elements(By.TAG_NAME,'li')\n",
    "            break\n",
    "        except TimeoutException:\n",
    "            driver.refresh()\n",
    "    return li_tags\n"
   ]
  },
  {
   "cell_type": "code",
   "execution_count": 24,
   "metadata": {},
   "outputs": [],
   "source": [
    "def get_List_Title(drug_body_text):\n",
    "    drug_body_line=drug_body_text.split('\\n')\n",
    "    pattern = r'\\d+\\.\\s(.*)'\n",
    "    list_title=[]\n",
    "    for i,drug in enumerate(drug_body_line):\n",
    "        title=re.findall(pattern,drug)\n",
    "        if title:\n",
    "            list_title.append(title)\n",
    "    return list_title"
   ]
  },
  {
   "cell_type": "code",
   "execution_count": 25,
   "metadata": {},
   "outputs": [],
   "source": [
    "def get_List_Title_Index(drug_body_text):\n",
    "    drug_body_line=drug_body_text.split('\\n')\n",
    "    pattern = r'\\d+\\.\\s(.*)'\n",
    "    tille_index=[]\n",
    "    for i,drug in enumerate(drug_body_line):\n",
    "        title=re.findall(pattern,drug)\n",
    "        if title:\n",
    "            tille_index.append(i)\n",
    "    return tille_index\n",
    "        "
   ]
  },
  {
   "cell_type": "code",
   "execution_count": 26,
   "metadata": {},
   "outputs": [],
   "source": [
    "def get_Drug_Content(drug_body_text,tille_index):\n",
    "    drug_body_line=drug_body_text.split('\\n')\n",
    "    string_text=''\n",
    "    for i in range(0,len(tille_index)):\n",
    "        index=tille_index[i]\n",
    "        for j in range(index,len(drug_body_line)):\n",
    "            if(tille_index[-1]!=tille_index[i]):\n",
    "                if(j==tille_index[i]):\n",
    "                    my_string = ', '.join(str(j) for j in drug_body_line[j+1:tille_index[i+1]])\n",
    "                    string_text=string_text+my_string+'\\n'\n",
    "            else:\n",
    "                my_string = ', '.join(str(j) for j in drug_body_line[j+1:len(drug_body_line)])\n",
    "                string_text=string_text+my_string\n",
    "                break\n",
    "                \n",
    "    Array_temp=string_text.split('\\n')\n",
    "    return(Array_temp)\n",
    "    "
   ]
  },
  {
   "cell_type": "code",
   "execution_count": 27,
   "metadata": {},
   "outputs": [],
   "source": [
    "for j in range(1000,1100):\n",
    "    li_tags=get_Url(url,str(j))\n",
    "    list_name=[]\n",
    "    i=1\n",
    "    while i<= len(li_tags):\n",
    "        list_title_index=[]\n",
    "        list_title=[]\n",
    "        list_drug=[]\n",
    "        list_name=[]\n",
    "        \n",
    "        try:\n",
    "            items = driver.find_element(By.XPATH,'/html/body/div[2]/div/div[2]/div[4]/ul/li[{}]/div/h2/a'.format(i)).click()\n",
    "            time.sleep(3)\n",
    "            header=driver.find_element(By.XPATH,'/html/body/div[2]/div[1]/div[2]/div/div[2]/div[2]')\n",
    "            h1=header.find_element(By.TAG_NAME,'h1').text\n",
    "            \n",
    "            drug_body_all=driver.find_element(By.XPATH,'/html/body/div[2]/div[1]/div[2]/div/div[2]')\n",
    "            try:\n",
    "                button=drug_body_all.find_element(By.ID,'readmore_content')\n",
    "             \n",
    "           \n",
    "                button.click()\n",
    "              \n",
    "                time.sleep(2)\n",
    "             \n",
    "            except:\n",
    "               \n",
    "                pass\n",
    "            \n",
    "            drug_body=driver.find_element(By.XPATH,'/html/body/div[2]/div[1]/div[2]/div/div[2]/div[3]/div[1]/div[1]')\n",
    "        \n",
    "            try:\n",
    "                list_title_index=get_List_Title_Index(drug_body.text)\n",
    "                list_title=get_List_Title(drug_body.text)\n",
    "                list_drug=get_Drug_Content(drug_body.text,list_title_index)\n",
    "                list_name[len(list_name):] = [h1] * len(list_title) \n",
    "                \n",
    "                for name in list_name:\n",
    "                    Compound_Name.append(name)\n",
    "                for title in list_title:\n",
    "                    Attibute_Name.append(title)\n",
    "                for drug in list_drug:\n",
    "                    Custome_Value.append(drug)\n",
    "                if (len(Custome_Value) > len(Attibute_Name)):\n",
    "                    print('Page Content lớn hơn :',j,'\\n',h1)\n",
    "                    Compound_Name.append(None)\n",
    "                    Attibute_Name.append(None)\n",
    "            except Exception :\n",
    "                print(Exception)\n",
    "            pass\n",
    "            driver.back()\n",
    "            time.sleep(4)\n",
    "            i+=1\n",
    "        except:\n",
    "            driver.get(url+str(j))\n",
    "            time.sleep(4)"
   ]
  },
  {
   "cell_type": "code",
   "execution_count": 28,
   "metadata": {},
   "outputs": [
    {
     "name": "stdout",
     "output_type": "stream",
     "text": [
      "Độ dài của list name: 6285\n",
      "Độ dài của list Attribute: 6285\n",
      "Độ dài của list content: 6285\n"
     ]
    }
   ],
   "source": [
    "print('Độ dài của list name:',len(Compound_Name))\n",
    "print('Độ dài của list Attribute:',len(Attibute_Name))\n",
    "print('Độ dài của list content:',len(Custome_Value))"
   ]
  },
  {
   "cell_type": "code",
   "execution_count": 19,
   "metadata": {},
   "outputs": [],
   "source": [
    "df['Compound_Name']=Compound_Name\n",
    "df['Attibute_Name']=Attibute_Name\n",
    "df['Content_Value']=Custome_Value"
   ]
  },
  {
   "cell_type": "code",
   "execution_count": 20,
   "metadata": {},
   "outputs": [],
   "source": [
    "df.to_csv('/FRT/16.Side_Effect/4.Crawl_data_Vinmec/Thuoc/1000_1100.csv')"
   ]
  },
  {
   "cell_type": "code",
   "execution_count": null,
   "metadata": {},
   "outputs": [],
   "source": []
  }
 ],
 "metadata": {
  "kernelspec": {
   "display_name": "Python 3",
   "language": "python",
   "name": "python3"
  },
  "language_info": {
   "codemirror_mode": {
    "name": "ipython",
    "version": 3
   },
   "file_extension": ".py",
   "mimetype": "text/x-python",
   "name": "python",
   "nbconvert_exporter": "python",
   "pygments_lexer": "ipython3",
   "version": "3.11.1"
  },
  "orig_nbformat": 4
 },
 "nbformat": 4,
 "nbformat_minor": 2
}
