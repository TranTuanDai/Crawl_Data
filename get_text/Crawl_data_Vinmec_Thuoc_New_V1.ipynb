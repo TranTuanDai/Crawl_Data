{
 "cells": [
  {
   "cell_type": "code",
   "execution_count": 26,
   "metadata": {},
   "outputs": [],
   "source": [
    "from selenium import webdriver\n",
    "import pandas as pd\n",
    "from selenium.webdriver.chrome.service import Service\n",
    "from selenium.webdriver.common.by import By\n",
    "from selenium.common.exceptions import TimeoutException\n",
    "import time\n",
    "from selenium.webdriver.support.ui import WebDriverWait\n",
    "from selenium.webdriver.support import expected_conditions as EC\n",
    "from selenium.common.exceptions import NoSuchElementException\n",
    "import re\n"
   ]
  },
  {
   "cell_type": "code",
   "execution_count": 27,
   "metadata": {},
   "outputs": [],
   "source": [
    "pd.set_option('display.max_columns',40)\n",
    "options = webdriver.ChromeOptions()\n",
    "options.add_argument('start-maximized')\n",
    "options.add_argument('disable-infobars')\n",
    "options.add_argument('--disable-extensions')\n",
    "options.add_argument(\"--disable-gpu\")\n",
    "\n",
    "df=pd.DataFrame()\n",
    "Compound_Name=[]\n",
    "Attibute_Name=[]\n",
    "Custome_Value=[]\n",
    "tille_index=[]\n",
    "pattern = r'\\d+\\.\\s(.*)'\n",
    "timeout=10\n",
    "url = f'https://vinmec.com/vi/thong-tin-duoc/su-dung-thuoc-toan/?page='\n"
   ]
  },
  {
   "cell_type": "code",
   "execution_count": 28,
   "metadata": {},
   "outputs": [],
   "source": [
    "\n",
    "service = Service('/ChromeDriver/chromedriver_win32/chromedriver.exe')\n",
    "driver = webdriver.Chrome(service=service,options=options)\n",
    "def get_Url(url,index_page):\n",
    "    while True:\n",
    "        try:\n",
    "            url_page =url+index_page\n",
    "            driver.get(url_page)\n",
    "            WebDriverWait(driver,timeout).until(EC.text_to_be_present_in_element((By.XPATH,'/html/body/div[2]/div/div[2]'),'Sử dụng thuốc an toàn'))\n",
    "            div_content=driver.find_element(By.XPATH,'/html/body/div[2]/div/div[2]/div[4]')\n",
    "            ul_tags=div_content.find_element(By.TAG_NAME,'ul')\n",
    "            li_tags=ul_tags.find_elements(By.TAG_NAME,'li')\n",
    "            break\n",
    "        except TimeoutException:\n",
    "            driver.refresh()\n",
    "    return li_tags\n",
    "\n"
   ]
  },
  {
   "cell_type": "code",
   "execution_count": 29,
   "metadata": {},
   "outputs": [],
   "source": [
    "def get_List_Title(drug_body_text):\n",
    "    drug_body_line=drug_body_text.split('\\n')\n",
    "    pattern = r'\\d+\\.\\s(.*)'\n",
    "    list_title=[]\n",
    "    for i,drug in enumerate(drug_body_line):\n",
    "        title=re.findall(pattern,drug)\n",
    "        if title:\n",
    "            list_title.append(title)\n",
    "    return list_title"
   ]
  },
  {
   "cell_type": "code",
   "execution_count": 30,
   "metadata": {},
   "outputs": [],
   "source": [
    "def get_List_Title_Index(drug_body_text):\n",
    "    drug_body_line=drug_body_text.split('\\n')\n",
    "    pattern = r'\\d+\\.\\s(.*)'\n",
    "    tille_index=[]\n",
    "    for i,drug in enumerate(drug_body_line):\n",
    "        title=re.findall(pattern,drug)\n",
    "        if title:\n",
    "            tille_index.append(i)\n",
    "    return tille_index"
   ]
  },
  {
   "cell_type": "code",
   "execution_count": 31,
   "metadata": {},
   "outputs": [],
   "source": [
    "def get_Drug_Content(drug_body_text,tille_index):\n",
    "    drug_body_line=drug_body_text.split('\\n')\n",
    "    string_text=''\n",
    "    for i in range(0,len(tille_index)):\n",
    "        index=tille_index[i]\n",
    "        for j in range(index,len(drug_body_line)):\n",
    "            if(tille_index[-1]!=tille_index[i]):\n",
    "                if(j==tille_index[i]):\n",
    "                    my_string = ', '.join(str(j) for j in drug_body_line[j+1:tille_index[i+1]])\n",
    "                    string_text=string_text+my_string+'\\n'\n",
    "            else:\n",
    "                my_string = ', '.join(str(j) for j in drug_body_line[j+1:len(drug_body_line)])\n",
    "                string_text=string_text+my_string\n",
    "                break\n",
    "                \n",
    "    Array_temp=string_text.split('\\n')\n",
    "    return(Array_temp)"
   ]
  },
  {
   "cell_type": "code",
   "execution_count": 32,
   "metadata": {},
   "outputs": [
    {
     "name": "stdout",
     "output_type": "stream",
     "text": [
      "Page Content lớn hơn : 250 \n",
      " Gastosic và một số lưu ý khi sử dụng\n",
      "Page Content lớn hơn : 250 \n",
      " Kiện Cốt Vương: Công dụng và cách sử dụng\n",
      "Page Content lớn hơn : 252 \n",
      " Kem dưỡng ẩm Esunvy tăng cường độ ẩm, dưỡng da mịn màng\n"
     ]
    }
   ],
   "source": [
    "for j in range(250,350):\n",
    "    li_tags=get_Url(url,str(j))\n",
    "    list_name=[]\n",
    "    i=1\n",
    "    while i<= len(li_tags):\n",
    "        list_name=[]\n",
    "        try:\n",
    "            items = driver.find_element(By.XPATH,'/html/body/div[2]/div/div[2]/div[4]/ul/li[{}]/div/h2/a'.format(i)).click()\n",
    "            time.sleep(3)\n",
    "            header=driver.find_element(By.XPATH,'/html/body/div[2]/div[1]/div[2]/div/div[2]/div[2]')\n",
    "            h1=header.find_element(By.TAG_NAME,'h1').text\n",
    "            \n",
    "            drug_body_all=driver.find_element(By.XPATH,'/html/body/div[2]/div[1]/div[2]/div/div[2]')\n",
    "            try:\n",
    "                button=drug_body_all.find_element(By.ID,'readmore_content')\n",
    "                button.click()\n",
    "              \n",
    "                time.sleep(2)\n",
    "             \n",
    "            except:\n",
    "               \n",
    "                pass\n",
    "            \n",
    "            drug_body=driver.find_element(By.XPATH,'/html/body/div[2]/div[1]/div[2]/div/div[2]/div[3]/div[1]/div[1]')\n",
    "        \n",
    "            try:\n",
    "                list_title_index=get_List_Title_Index(drug_body.text)\n",
    "                list_title=get_List_Title(drug_body.text)\n",
    "                list_drug=get_Drug_Content(drug_body.text,list_title_index)\n",
    "                list_name[len(list_name):] = [h1] * len(list_title) \n",
    "                for name in list_name:\n",
    "                    Compound_Name.append(name)\n",
    "                for title in list_title:\n",
    "                    Attibute_Name.append(title)\n",
    "                for drug in list_drug:\n",
    "                    Custome_Value.append(drug)\n",
    "                if (len(Custome_Value) > len(Attibute_Name)):\n",
    "                    print('Page Content lớn hơn :',j,'\\n',h1)\n",
    "                    Compound_Name.append(None)\n",
    "                    Attibute_Name.append(None)\n",
    "            except Exception :\n",
    "                print(Exception)\n",
    "            pass\n",
    "            driver.back()\n",
    "            time.sleep(4)\n",
    "            i+=1\n",
    "        except:\n",
    "            driver.get(url+str(j))\n",
    "            time.sleep(4)\n",
    "    "
   ]
  },
  {
   "cell_type": "code",
   "execution_count": 33,
   "metadata": {},
   "outputs": [
    {
     "name": "stdout",
     "output_type": "stream",
     "text": [
      "Độ dài của list name: 6064\n",
      "Độ dài của list Attribute: 6064\n",
      "Độ dài của list content: 6064\n"
     ]
    }
   ],
   "source": [
    "print('Độ dài của list name:',len(Compound_Name))\n",
    "print('Độ dài của list Attribute:',len(Attibute_Name))\n",
    "print('Độ dài của list content:',len(Custome_Value))"
   ]
  },
  {
   "cell_type": "code",
   "execution_count": 21,
   "metadata": {},
   "outputs": [],
   "source": [
    "Compound_Name.append(None)\n",
    "Attibute_Name.append(None)"
   ]
  },
  {
   "cell_type": "code",
   "execution_count": 23,
   "metadata": {},
   "outputs": [],
   "source": [
    "df['Compound_Name']=Compound_Name\n",
    "df['Attibute_Name']=Attibute_Name\n",
    "df['Content_Value']=Custome_Value"
   ]
  },
  {
   "cell_type": "code",
   "execution_count": 24,
   "metadata": {},
   "outputs": [
    {
     "data": {
      "text/html": [
       "<div>\n",
       "<style scoped>\n",
       "    .dataframe tbody tr th:only-of-type {\n",
       "        vertical-align: middle;\n",
       "    }\n",
       "\n",
       "    .dataframe tbody tr th {\n",
       "        vertical-align: top;\n",
       "    }\n",
       "\n",
       "    .dataframe thead th {\n",
       "        text-align: right;\n",
       "    }\n",
       "</style>\n",
       "<table border=\"1\" class=\"dataframe\">\n",
       "  <thead>\n",
       "    <tr style=\"text-align: right;\">\n",
       "      <th></th>\n",
       "      <th>Compound_Name</th>\n",
       "      <th>Attibute_Name</th>\n",
       "      <th>Content_Value</th>\n",
       "    </tr>\n",
       "  </thead>\n",
       "  <tbody>\n",
       "    <tr>\n",
       "      <th>0</th>\n",
       "      <td>Công dụng thuốc Chirocaine</td>\n",
       "      <td>[Chirocaine là thuốc gì?]</td>\n",
       "      <td>Thuốc Chirocaine chứa thành phần Levobupivacai...</td>\n",
       "    </tr>\n",
       "    <tr>\n",
       "      <th>1</th>\n",
       "      <td>Công dụng thuốc Chirocaine</td>\n",
       "      <td>[Chỉ định và chống chỉ định sử dụng thuốc Chir...</td>\n",
       "      <td>Thuốc Chirocaine được chỉ định sử dụng ca cả n...</td>\n",
       "    </tr>\n",
       "    <tr>\n",
       "      <th>2</th>\n",
       "      <td>Công dụng thuốc Chirocaine</td>\n",
       "      <td>[Liều lượng và cách sử dụng thuốc Chirocaine]</td>\n",
       "      <td>Thuốc Chirocaine được sử dụng ở dạng tiêm, trá...</td>\n",
       "    </tr>\n",
       "    <tr>\n",
       "      <th>3</th>\n",
       "      <td>Công dụng thuốc Chirocaine</td>\n",
       "      <td>[Tác dụng phụ khi sử dụng thuốc Chirocaine]</td>\n",
       "      <td>Thuốc Chirocaine có thể gây ra một số tác dụng...</td>\n",
       "    </tr>\n",
       "    <tr>\n",
       "      <th>4</th>\n",
       "      <td>Công dụng thuốc Dongetran</td>\n",
       "      <td>[Thuốc Dongetran có tác dụng gì?]</td>\n",
       "      <td></td>\n",
       "    </tr>\n",
       "    <tr>\n",
       "      <th>...</th>\n",
       "      <td>...</td>\n",
       "      <td>...</td>\n",
       "      <td>...</td>\n",
       "    </tr>\n",
       "    <tr>\n",
       "      <th>14998</th>\n",
       "      <td>Công dụng thuốc Arclenxyl</td>\n",
       "      <td>[Tác dụng phụ của thuốc Arclenxyl]</td>\n",
       "      <td>Tốt nhất vẫn là uống thuốc đúng thời gian bác ...</td>\n",
       "    </tr>\n",
       "    <tr>\n",
       "      <th>14999</th>\n",
       "      <td>Công dụng thuốc Arclenxyl</td>\n",
       "      <td>[Tương tác thuốc Arclenxyl]</td>\n",
       "      <td>Triệu chứng quá liều ở người lớn khi dùng thuố...</td>\n",
       "    </tr>\n",
       "    <tr>\n",
       "      <th>15000</th>\n",
       "      <td>None</td>\n",
       "      <td>None</td>\n",
       "      <td>Thận trọng khi dùng thuốc Arclenxyl với người ...</td>\n",
       "    </tr>\n",
       "    <tr>\n",
       "      <th>15001</th>\n",
       "      <td>None</td>\n",
       "      <td>None</td>\n",
       "      <td>Khi sử dụng Arclenxyl với liều lớn hơn 10 mg m...</td>\n",
       "    </tr>\n",
       "    <tr>\n",
       "      <th>15002</th>\n",
       "      <td>None</td>\n",
       "      <td>None</td>\n",
       "      <td>Loratadin được chuyển hóa bởi cytochrom P450 i...</td>\n",
       "    </tr>\n",
       "  </tbody>\n",
       "</table>\n",
       "<p>15003 rows × 3 columns</p>\n",
       "</div>"
      ],
      "text/plain": [
       "                    Compound_Name  \\\n",
       "0      Công dụng thuốc Chirocaine   \n",
       "1      Công dụng thuốc Chirocaine   \n",
       "2      Công dụng thuốc Chirocaine   \n",
       "3      Công dụng thuốc Chirocaine   \n",
       "4       Công dụng thuốc Dongetran   \n",
       "...                           ...   \n",
       "14998   Công dụng thuốc Arclenxyl   \n",
       "14999   Công dụng thuốc Arclenxyl   \n",
       "15000                        None   \n",
       "15001                        None   \n",
       "15002                        None   \n",
       "\n",
       "                                           Attibute_Name  \\\n",
       "0                              [Chirocaine là thuốc gì?]   \n",
       "1      [Chỉ định và chống chỉ định sử dụng thuốc Chir...   \n",
       "2          [Liều lượng và cách sử dụng thuốc Chirocaine]   \n",
       "3            [Tác dụng phụ khi sử dụng thuốc Chirocaine]   \n",
       "4                      [Thuốc Dongetran có tác dụng gì?]   \n",
       "...                                                  ...   \n",
       "14998                 [Tác dụng phụ của thuốc Arclenxyl]   \n",
       "14999                        [Tương tác thuốc Arclenxyl]   \n",
       "15000                                               None   \n",
       "15001                                               None   \n",
       "15002                                               None   \n",
       "\n",
       "                                           Content_Value  \n",
       "0      Thuốc Chirocaine chứa thành phần Levobupivacai...  \n",
       "1      Thuốc Chirocaine được chỉ định sử dụng ca cả n...  \n",
       "2      Thuốc Chirocaine được sử dụng ở dạng tiêm, trá...  \n",
       "3      Thuốc Chirocaine có thể gây ra một số tác dụng...  \n",
       "4                                                         \n",
       "...                                                  ...  \n",
       "14998  Tốt nhất vẫn là uống thuốc đúng thời gian bác ...  \n",
       "14999  Triệu chứng quá liều ở người lớn khi dùng thuố...  \n",
       "15000  Thận trọng khi dùng thuốc Arclenxyl với người ...  \n",
       "15001  Khi sử dụng Arclenxyl với liều lớn hơn 10 mg m...  \n",
       "15002  Loratadin được chuyển hóa bởi cytochrom P450 i...  \n",
       "\n",
       "[15003 rows x 3 columns]"
      ]
     },
     "execution_count": 24,
     "metadata": {},
     "output_type": "execute_result"
    }
   ],
   "source": [
    "df"
   ]
  },
  {
   "cell_type": "code",
   "execution_count": 25,
   "metadata": {},
   "outputs": [],
   "source": [
    "df.to_csv('/FRT/16.Side_Effect/4.Crawl_data_Vinmec/Thuoc/250_350.csv')"
   ]
  },
  {
   "cell_type": "code",
   "execution_count": null,
   "metadata": {},
   "outputs": [],
   "source": []
  }
 ],
 "metadata": {
  "kernelspec": {
   "display_name": "Python 3",
   "language": "python",
   "name": "python3"
  },
  "language_info": {
   "codemirror_mode": {
    "name": "ipython",
    "version": 3
   },
   "file_extension": ".py",
   "mimetype": "text/x-python",
   "name": "python",
   "nbconvert_exporter": "python",
   "pygments_lexer": "ipython3",
   "version": "3.11.1"
  },
  "orig_nbformat": 4,
  "vscode": {
   "interpreter": {
    "hash": "a0e8212e7d053bbd05b263999e9f5bb7989042aa547154c35922e72425bfad91"
   }
  }
 },
 "nbformat": 4,
 "nbformat_minor": 2
}
