{
 "cells": [
  {
   "cell_type": "code",
   "execution_count": 78,
   "metadata": {},
   "outputs": [],
   "source": [
    "from selenium import webdriver\n",
    "import pandas as pd\n",
    "from selenium.webdriver.chrome.service import Service\n",
    "from selenium.webdriver.common.by import By\n",
    "from selenium.common.exceptions import TimeoutException\n",
    "import time\n",
    "from selenium.webdriver.support.ui import WebDriverWait\n",
    "from selenium.webdriver.support import expected_conditions as EC\n",
    "from selenium.common.exceptions import NoSuchElementException\n",
    "import re"
   ]
  },
  {
   "cell_type": "code",
   "execution_count": 79,
   "metadata": {},
   "outputs": [],
   "source": [
    "pd.set_option('display.max_columns',40)\n",
    "options = webdriver.ChromeOptions()\n",
    "options.add_argument('start-maximized')\n",
    "options.add_argument('disable-infobars')\n",
    "options.add_argument('--disable-extensions')\n",
    "options.add_argument(\"--disable-gpu\")\n",
    "\n",
    "df=pd.DataFrame()\n",
    "Compound_Name=[]\n",
    "Attibute_Name=[]\n",
    "Custome_Value=[]\n",
    "tille_index=[]\n",
    "timeout=10\n",
    "url = f'https://www.nhathuocankhang.com/hoat-chat?substancekey='"
   ]
  },
  {
   "cell_type": "code",
   "execution_count": 80,
   "metadata": {},
   "outputs": [],
   "source": [
    "service = Service('/ChromeDriver/chromedriver_win32/chromedriver.exe')\n",
    "driver = webdriver.Chrome(service=service,options=options)\n",
    "def get_Url(url,key_page):\n",
    "    li_text=[]\n",
    "    while True:\n",
    "        try:\n",
    "            url_page =url+key_page\n",
    "            driver.get(url_page)\n",
    "            div_content=driver.find_element(By.XPATH,'/html/body/section/div[2]')\n",
    "            ul_tags=div_content.find_element(By.TAG_NAME,'ul')\n",
    "            li_tags=ul_tags.find_elements(By.TAG_NAME,'li')\n",
    "            break\n",
    "        except TimeoutException:\n",
    "            driver.refresh()\n",
    "    for li in li_tags:\n",
    "        li_text.append(li.text)\n",
    "    return li_text"
   ]
  },
  {
   "cell_type": "code",
   "execution_count": 81,
   "metadata": {},
   "outputs": [],
   "source": [
    "def get_Value_Href(div_content):\n",
    "    list_href=[]\n",
    "    a_tags=[]\n",
    "    ul_tags=div_content.find_element(By.TAG_NAME,'ul')\n",
    "    li_tags=ul_tags.find_elements(By.TAG_NAME,'li')\n",
    "    for li in li_tags:\n",
    "        a_tag=li.find_element(By.TAG_NAME,'a')\n",
    "        a_tags.append(a_tag)\n",
    "    for a in a_tags:\n",
    "        href=a.get_attribute('href')\n",
    "        list_href.append(href)\n",
    "    return list_href\n",
    "\n"
   ]
  },
  {
   "cell_type": "code",
   "execution_count": 82,
   "metadata": {},
   "outputs": [],
   "source": [
    "def get_Text_Li_Tags(div_content):\n",
    "    li_text=[]\n",
    "    ul_tags=div_content.find_element(By.TAG_NAME,'ul')\n",
    "    li_tags=ul_tags.find_elements(By.TAG_NAME,'li')\n",
    "    for li in li_tags:\n",
    "        li_text.append(li.text)\n",
    "    return li_text"
   ]
  },
  {
   "cell_type": "code",
   "execution_count": 83,
   "metadata": {},
   "outputs": [],
   "source": [
    "def get_Title_And_Content(list_li_text,key_page):\n",
    "    compound_name=[]\n",
    "    compound_title=[]\n",
    "    compound_content=[]\n",
    "    try:\n",
    "        j=0\n",
    "        while j<len(list_li_text):\n",
    "            li_text_=list_li_text[j]\n",
    "            try:\n",
    "                time.sleep(2)\n",
    "                try:\n",
    "                    items = driver.find_element(By.XPATH,'/html/body/section/div[2]/ul/li[{}]/a'.format(j+1)).click()\n",
    "                    time.sleep(2)\n",
    "                    content_wrapper=driver.find_element(By.XPATH,'/html/body/section/div[1]')\n",
    "                    articles=content_wrapper.find_elements(By.TAG_NAME,'article')\n",
    "                    # print('Len tag Articles của | ',li_text_,' | ',len(articles))\n",
    "                    j+=1\n",
    "                except Exception as e:\n",
    "                    print('Error :\\n',e)\n",
    "                    driver.get(url+key_page)\n",
    "                    time.sleep(2)\n",
    "                    pass\n",
    "                if (len(articles)>1):\n",
    "                    for i in range(1,len(articles)):\n",
    "                        title=articles[i].find_element(By.CLASS_NAME,'title').text\n",
    "                        compound_title.append(title)\n",
    "                        content=articles[i].find_element(By.CLASS_NAME,'content').text\n",
    "                        compound_content.append(content)\n",
    "                    compound_name[len(compound_name):] = [li_text_] * (len(articles)-1)\n",
    "                    driver.back()\n",
    "                else:\n",
    "                    driver.back()\n",
    "            except Exception as e:\n",
    "                print('Error :\\n',e)\n",
    "                driver.get(url+key_page)\n",
    "                time.sleep(2)\n",
    "        \n",
    "    except Exception as e:\n",
    "        print('Error :\\n',e)\n",
    "        driver.get(url+key_page)\n",
    "        time.sleep(2)\n",
    "    return compound_name,compound_title,compound_content"
   ]
  },
  {
   "cell_type": "code",
   "execution_count": 84,
   "metadata": {},
   "outputs": [],
   "source": [
    "def get_All_Href(all_page):\n",
    "    arr_href=[]\n",
    "    for i,key in enumerate(all_page):\n",
    "        try:\n",
    "            li_tags=get_Url(url,key)\n",
    "            time.sleep(2)\n",
    "            substance=driver.find_element(By.XPATH,'/html/body/section/div[2]/div')\n",
    "            list_tag_a=substance.find_elements(By.TAG_NAME,'a')\n",
    "        except:\n",
    "            pass\n",
    "        print('List li tag:',len(list_tag_a))\n",
    "        try:\n",
    "            for i,a in enumerate(list_tag_a):\n",
    "                print(a.text)\n",
    "                list_href=[]\n",
    "                a.click()\n",
    "                time.sleep(1)\n",
    "                print('Click vào page:',i+1)\n",
    "                div_content=driver.find_element(By.XPATH,'/html/body/section/div[2]')\n",
    "                list_href=get_Value_Href(div_content)\n",
    "                for h in list_href:\n",
    "                    arr_href.append(h)\n",
    "                time.sleep(1)\n",
    "        except:\n",
    "            print('Không có page')\n",
    "            div_content=driver.find_element(By.XPATH,'/html/body/section/div[2]')\n",
    "            list_href=get_Value_Href(div_content)\n",
    "            for h in list_href:\n",
    "                arr_href.append(h)\n",
    "    return arr_href"
   ]
  },
  {
   "cell_type": "code",
   "execution_count": null,
   "metadata": {},
   "outputs": [],
   "source": [
    "List_All_Href=get_All_Href('abcdefghiklmnopqrstuvwxyz')\n",
    "for href in List_All_Href:\n",
    "    driver.get(href)\n",
    "    try:\n",
    "        time.sleep(2)\n",
    "        try:\n",
    "            ul_head=driver.find_element(By.XPATH,'/html/body/section/ul')\n",
    "            lis=ul_head.find_elements(By.TAG_NAME,'li')\n",
    "            li_text=lis[2].text\n",
    "            content_wrapper=driver.find_element(By.XPATH,'/html/body/section/div[1]')\n",
    "            articles=content_wrapper.find_elements(By.TAG_NAME,'article')\n",
    "            # print('Len tag Articles của | ',li_text_,' | ',len(articles))\n",
    "        except Exception as e:\n",
    "            print('Error :\\n',e)\n",
    "            driver.get(href)\n",
    "            time.sleep(2)\n",
    "            pass\n",
    "        if (len(articles)>1):\n",
    "            for i in range(1,len(articles)):\n",
    "                title=articles[i].find_element(By.CLASS_NAME,'title').text\n",
    "                Attibute_Name.append(title)\n",
    "                content=articles[i].find_element(By.CLASS_NAME,'content').text\n",
    "                Custome_Value.append(content)\n",
    "            Compound_Name[len(Compound_Name):] = [li_text] * (len(articles)-1)\n",
    "            driver.back()\n",
    "        else:\n",
    "            driver.back()\n",
    "    except Exception as e:\n",
    "        print('Error :\\n',e)\n",
    "        driver.get(href)\n",
    "        time.sleep(2)\n",
    "    "
   ]
  },
  {
   "cell_type": "code",
   "execution_count": 86,
   "metadata": {},
   "outputs": [
    {
     "name": "stdout",
     "output_type": "stream",
     "text": [
      "Độ dài của list name: 10264\n",
      "Độ dài của list Attribute: 10264\n",
      "Độ dài của list content: 10264\n"
     ]
    }
   ],
   "source": [
    "print('Độ dài của list name:',len(Compound_Name))\n",
    "print('Độ dài của list Attribute:',len(Attibute_Name))\n",
    "print('Độ dài của list content:',len(Custome_Value))"
   ]
  },
  {
   "cell_type": "code",
   "execution_count": 87,
   "metadata": {},
   "outputs": [],
   "source": [
    "df['Compound_Name']=Compound_Name\n",
    "df['Attibute_Name']=Attibute_Name\n",
    "df['Content_Value']=Custome_Value"
   ]
  },
  {
   "cell_type": "code",
   "execution_count": null,
   "metadata": {},
   "outputs": [],
   "source": [
    "\n",
    "driver.get(List_All_Href[0])\n",
    "lis=ul_head.find_elements(By.TAG_NAME,'li')\n",
    "li_text=lis[1].text\n",
    "li_text"
   ]
  },
  {
   "cell_type": "code",
   "execution_count": 93,
   "metadata": {},
   "outputs": [],
   "source": [
    "df.to_csv('/FRT/16.Side_Effect/7.Crawl_data_ankhang/all.csv')"
   ]
  },
  {
   "cell_type": "code",
   "execution_count": 71,
   "metadata": {},
   "outputs": [],
   "source": [
    "ul_head=driver.find_element(By.XPATH,'/html/body/section/ul')\n",
    "lis=ul_head.find_elements(By.TAG_NAME,'li')\n",
    "li_text=lis[2]"
   ]
  },
  {
   "cell_type": "code",
   "execution_count": null,
   "metadata": {},
   "outputs": [],
   "source": [
    "Compound_Name[0].text\n"
   ]
  },
  {
   "cell_type": "code",
   "execution_count": 76,
   "metadata": {},
   "outputs": [
    {
     "data": {
      "text/plain": [
       "'Allantoin'"
      ]
     },
     "execution_count": 76,
     "metadata": {},
     "output_type": "execute_result"
    }
   ],
   "source": [
    "li_text.text"
   ]
  },
  {
   "cell_type": "code",
   "execution_count": null,
   "metadata": {},
   "outputs": [],
   "source": []
  }
 ],
 "metadata": {
  "kernelspec": {
   "display_name": "Python 3",
   "language": "python",
   "name": "python3"
  },
  "language_info": {
   "codemirror_mode": {
    "name": "ipython",
    "version": 3
   },
   "file_extension": ".py",
   "mimetype": "text/x-python",
   "name": "python",
   "nbconvert_exporter": "python",
   "pygments_lexer": "ipython3",
   "version": "3.11.1"
  },
  "orig_nbformat": 4
 },
 "nbformat": 4,
 "nbformat_minor": 2
}
