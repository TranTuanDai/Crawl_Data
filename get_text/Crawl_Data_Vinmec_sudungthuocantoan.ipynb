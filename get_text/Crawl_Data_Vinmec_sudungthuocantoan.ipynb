{
 "cells": [
  {
   "cell_type": "code",
   "execution_count": 9,
   "metadata": {},
   "outputs": [],
   "source": [
    "from selenium import webdriver\n",
    "import pandas as pd\n",
    "from selenium.webdriver.chrome.service import Service\n",
    "from selenium.webdriver.common.by import By\n",
    "import time\n",
    "from selenium.webdriver.support.ui import WebDriverWait\n",
    "from selenium.webdriver.support import expected_conditions as EC\n",
    "from selenium.common.exceptions import NoSuchElementException\n",
    "import re"
   ]
  },
  {
   "cell_type": "code",
   "execution_count": 10,
   "metadata": {},
   "outputs": [],
   "source": [
    "pd.set_option('display.max_columns',40)\n",
    "options = webdriver.ChromeOptions()\n",
    "options.add_argument('start-maximized')\n",
    "options.add_argument('disable-infobars')\n",
    "options.add_argument('--disable-extensions')\n",
    "options.add_argument(\"--disable-gpu\")\n",
    "\n",
    "df=pd.DataFrame()\n",
    "Compound_Name=[]\n",
    "Attibute_Name=[]\n",
    "Custome_Value=[]\n",
    "tille_index=[]\n",
    "pattern = r'\\d+\\.\\s(.*)'"
   ]
  },
  {
   "cell_type": "code",
   "execution_count": 11,
   "metadata": {},
   "outputs": [],
   "source": [
    "service = Service('/ChromeDriver/chromedriver_win32/chromedriver.exe')\n",
    "driver = webdriver.Chrome(service=service,options=options)\n",
    "url = f'https://www.vinmec.com/vi/thong-tin-duoc/su-dung-thuoc-toan/?page=1'\n",
    "driver.get(url)\n",
    "time.sleep(2)\n",
    "tags=driver.find_element(By.XPATH,'/html/body/div[2]/div/div[2]/div[4]')\n",
    "ul_tags=tags.find_element(By.TAG_NAME,'ul')\n",
    "li_tags=ul_tags.find_elements(By.TAG_NAME,'li')"
   ]
  },
  {
   "cell_type": "code",
   "execution_count": 12,
   "metadata": {},
   "outputs": [
    {
     "name": "stdout",
     "output_type": "stream",
     "text": [
      "Click vào item thứ : 1\n",
      "Click vào item thứ : 2\n",
      "Lỗi thứ 2\n",
      "Lỗi thứ 2\n",
      "Lỗi thứ 2\n",
      "Lỗi thứ 2\n",
      "Lỗi thứ 2\n",
      "Lỗi thứ 2\n",
      "Lỗi thứ 2\n"
     ]
    }
   ],
   "source": [
    "i=1\n",
    "while i<= len(li_tags):\n",
    "    try:\n",
    "        time.sleep(2)\n",
    "        items = driver.find_element(By.XPATH,'/html/body/div[2]/div/div[2]/div[4]/ul/li[{}]/div/h2/a'.format(i)).click()\n",
    "        print('Click vào item thứ :',i)\n",
    "        time.sleep(2)\n",
    "        # header=driver.find_element(By.XPATH,'/html/body/div[2]/div[1]/div[2]/div/div[2]/div[2]')\n",
    "        # h1=header.find_element(By.TAG_NAME,'h1').text\n",
    "        # drug_body=driver.find_element(By.XPATH,'/html/body/div[2]/div[1]/div[2]/div/div[2]/div[3]/div[1]/div[1]')\n",
    "        # button=drug_body.find_element(By.TAG_NAME,'button')\n",
    "        # if button.is_displayed():\n",
    "        #     button.click()\n",
    "        #     drug_body=driver.find_element(By.XPATH,'/html/body/div[2]/div[1]/div[2]/div/div[2]/div[3]/div[1]/div[1]')\n",
    "        #     h2_tags=drug_body.find_elements(By.TAG_NAME,'h2')\n",
    "        #     div_tags=drug_body.find_elements(By.TAG_NAME,'div')\n",
    "        # else:\n",
    "        #     drug_body=driver.find_element(By.XPATH,'/html/body/div[2]/div[1]/div[2]/div/div[2]/div[3]/div[1]/div[1]')\n",
    "        #     h2_tags=drug_body.find_elements(By.TAG_NAME,'h2')\n",
    "        #     div_tags=drug_body.find_elements(By.TAG_NAME,'div')\n",
    "        # drug_body_line=drug_body.text.split('\\n')\n",
    "    except Exception as e:\n",
    "        print('Lỗi thứ 2')\n",
    "        driver.get(url)\n",
    "        time.sleep(2)\n",
    "    i+=1\n",
    "    driver.back()\n",
    "\n"
   ]
  },
  {
   "cell_type": "code",
   "execution_count": null,
   "metadata": {},
   "outputs": [],
   "source": [
    "for i,li in enumerate(li_tags):\n",
    "    img_tags=li.find_element(By.TAG_NAME,'img')\n",
    "    print(img_tags)\n",
    "    "
   ]
  },
  {
   "cell_type": "code",
   "execution_count": null,
   "metadata": {},
   "outputs": [],
   "source": [
    "for i in range(1,len(li_tags)+1):\n",
    "    item=driver.find_element(By.XPATH,'/html/body/div[2]/div/div[2]/div[4]/ul/li[{}]/a'.format(i)).click()\n",
    "    time.sleep(3)\n",
    "    driver.back()"
   ]
  },
  {
   "cell_type": "code",
   "execution_count": null,
   "metadata": {},
   "outputs": [],
   "source": []
  }
 ],
 "metadata": {
  "kernelspec": {
   "display_name": "Python 3",
   "language": "python",
   "name": "python3"
  },
  "language_info": {
   "codemirror_mode": {
    "name": "ipython",
    "version": 3
   },
   "file_extension": ".py",
   "mimetype": "text/x-python",
   "name": "python",
   "nbconvert_exporter": "python",
   "pygments_lexer": "ipython3",
   "version": "3.11.1"
  },
  "orig_nbformat": 4
 },
 "nbformat": 4,
 "nbformat_minor": 2
}
