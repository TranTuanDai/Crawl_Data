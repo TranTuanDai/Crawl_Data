{
 "cells": [
  {
   "cell_type": "code",
   "execution_count": 110,
   "metadata": {},
   "outputs": [],
   "source": [
    "from selenium import webdriver\n",
    "import pandas as pd\n",
    "from selenium.webdriver.chrome.service import Service\n",
    "from selenium.webdriver.common.by import By\n",
    "import time\n",
    "from selenium.common.exceptions import TimeoutException\n",
    "from selenium.webdriver.support.ui import WebDriverWait\n",
    "from selenium.webdriver.support import expected_conditions as EC"
   ]
  },
  {
   "cell_type": "code",
   "execution_count": 111,
   "metadata": {},
   "outputs": [],
   "source": [
    "pd.set_option('display.max_columns',40)\n",
    "options = webdriver.ChromeOptions()\n",
    "options.add_argument('start-maximized')\n",
    "options.add_argument('disable-infobars')\n",
    "options.add_argument('--disable-extensions')\n",
    "options.add_argument(\"--disable-gpu\")\n",
    "\n",
    "df=pd.DataFrame()\n",
    "Compound_Name=[]\n",
    "Attibute_Name=[]\n",
    "Custome_Value=[]\n",
    "\n"
   ]
  },
  {
   "cell_type": "code",
   "execution_count": 59,
   "metadata": {},
   "outputs": [],
   "source": [
    "def load_page(url,driver):\n",
    "    # service = Service('/ChromeDriver/chromedriver_win32/chromedriver.exe')\n",
    "    # driver = webdriver.Chrome(service=service,options=options)\n",
    "    driver.get(url)\n",
    "\n",
    "    # Kiểm tra xem trang đã tải hoàn tất hay chưa\n",
    "    try:\n",
    "        WebDriverWait(driver, 10).until(EC.presence_of_element_located((By.CLASS_NAME, 'content')))\n",
    "    except TimeoutException:\n",
    "        print('TimeoutException')\n",
    "        driver.quit()\n",
    "        # Gọi lại hàm mở trang web để tải lại trang\n",
    "        load_page(url)"
   ]
  },
  {
   "cell_type": "code",
   "execution_count": 112,
   "metadata": {},
   "outputs": [
    {
     "name": "stdout",
     "output_type": "stream",
     "text": [
      "Trang : 1 Dược chất thứ : 1\n",
      "Trang : 2 Dược chất thứ : 1\n",
      "Trang : 2 Dược chất thứ : 2\n",
      "Trang : 2 Dược chất thứ : 3\n"
     ]
    }
   ],
   "source": [
    "service = Service('/ChromeDriver/chromedriver_win32/chromedriver.exe')\n",
    "driver = webdriver.Chrome(service=service,options=options)\n",
    "for page in range(1,3):\n",
    "    try:\n",
    "        while True:\n",
    "            url = f'https://www.vinmec.com/vi/thuoc/?page={page}'\n",
    "            driver.get(url)\n",
    "            \n",
    "            if WebDriverWait(driver, 10).until(EC.presence_of_element_located((By.CLASS_NAME, 'content'))):\n",
    "                break\n",
    "        # load_page(url=url,driver=driver)\n",
    "        # driver.refresh() \n",
    "        time.sleep(5)\n",
    "        div_content=driver.find_element(By.CLASS_NAME,'content')\n",
    "        tags=driver.find_element(By.TAG_NAME,'section')\n",
    "        ul_tags=tags.find_element(By.TAG_NAME,'ul')\n",
    "        li_tags=ul_tags.find_elements(By.TAG_NAME,'li')\n",
    "        p_values=[]\n",
    "        for i in range(1,len(li_tags)+1):\n",
    "            try:\n",
    "                items = driver.find_element(By.XPATH,'/html/body/div[2]/div[2]/div/div/section/ul/li[{}]'.format(i)).click()\n",
    "                time.sleep(3)\n",
    "                print('Trang :',page,'Dược chất thứ :',i)\n",
    "\n",
    "                main=driver.find_element(By.XPATH,'/html/body/div[2]')\n",
    "                h1=main.find_element(By.TAG_NAME,'h1').text\n",
    "               \n",
    "                drug_body=driver.find_element(By.XPATH,'/html/body/div[2]/div[2]/div/div/div[2]')\n",
    "                h2_tags=drug_body.find_elements(By.TAG_NAME,'h2')\n",
    "                div_tags=drug_body.find_elements(By.TAG_NAME,'div')\n",
    "                for h2 in h2_tags:\n",
    "                    Attibute_Name.append(h2.text)\n",
    "                    \n",
    "                for i in range(len(h2_tags)):\n",
    "                    Custome_Value.append(div_tags[i].text)\n",
    "                Compound_Name[len(Compound_Name):] = [h1] * len(h2_tags)\n",
    "\n",
    "            except:\n",
    "                driver.refresh()       \n",
    "            time.sleep(3)\n",
    "            driver.back()\n",
    "            time.sleep(3)\n",
    "    except:\n",
    "        driver.refresh()\n",
    "        time.sleep(3)\n",
    "\n",
    "\n",
    "\n",
    "            \n",
    "  "
   ]
  },
  {
   "cell_type": "code",
   "execution_count": 100,
   "metadata": {},
   "outputs": [],
   "source": [
    "df['Compound_Name']=Compound_Name\n",
    "df['Attibute_Name']=Attibute_Name\n",
    "df['Custome_Value']=Custome_Value"
   ]
  },
  {
   "cell_type": "code",
   "execution_count": 102,
   "metadata": {},
   "outputs": [
    {
     "data": {
      "text/plain": [
       "[]"
      ]
     },
     "execution_count": 102,
     "metadata": {},
     "output_type": "execute_result"
    }
   ],
   "source": []
  },
  {
   "cell_type": "code",
   "execution_count": 103,
   "metadata": {},
   "outputs": [
    {
     "name": "stdout",
     "output_type": "stream",
     "text": [
      "0 0 0\n"
     ]
    }
   ],
   "source": [
    "print(len(Compound_Name),len(Attibute_Name),len(Custome_Value))\n"
   ]
  },
  {
   "cell_type": "code",
   "execution_count": 99,
   "metadata": {},
   "outputs": [],
   "source": [
    "df.to_excel('/FRT/16.Side_Effect/4.Crawl_data_Vinmec/check7_vs.xlsx')"
   ]
  },
  {
   "cell_type": "code",
   "execution_count": null,
   "metadata": {},
   "outputs": [],
   "source": []
  }
 ],
 "metadata": {
  "kernelspec": {
   "display_name": "Python 3",
   "language": "python",
   "name": "python3"
  },
  "language_info": {
   "codemirror_mode": {
    "name": "ipython",
    "version": 3
   },
   "file_extension": ".py",
   "mimetype": "text/x-python",
   "name": "python",
   "nbconvert_exporter": "python",
   "pygments_lexer": "ipython3",
   "version": "3.11.1"
  },
  "orig_nbformat": 4
 },
 "nbformat": 4,
 "nbformat_minor": 2
}
