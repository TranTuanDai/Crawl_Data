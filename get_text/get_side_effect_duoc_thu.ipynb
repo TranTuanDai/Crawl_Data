{
 "cells": [
  {
   "cell_type": "code",
   "execution_count": 1,
   "metadata": {},
   "outputs": [],
   "source": [
    "from selenium.webdriver.common.by import By\n",
    "from selenium.webdriver.support import expected_conditions as EC\n",
    "from selenium import webdriver\n",
    "from selenium.webdriver.chrome.service import Service\n",
    "from selenium.common.exceptions import *\n",
    "from openpyxl.workbook import Workbook\n",
    "import sqlalchemy as sa\n",
    "import urllib\n",
    "import pandas as pd\n",
    "import pyodbc\n",
    "import time\n",
    "import glob\n",
    "from datetime import datetime, timedelta\n",
    "from os import listdir\n",
    "from os.path import isfile, join\n",
    "import urllib.parse\n",
    "from selenium.webdriver.common.keys import Keys\n",
    "from selenium.webdriver.common.action_chains import ActionChains\n",
    "from selenium.webdriver.support.wait import WebDriverWait\n",
    "from selenium.webdriver.common.by import By\n",
    "\n",
    "\n"
   ]
  },
  {
   "cell_type": "code",
   "execution_count": 2,
   "metadata": {},
   "outputs": [],
   "source": [
    "\n",
    "pd.set_option('display.max_columns',40)\n",
    "\n",
    "options = webdriver.ChromeOptions()\n",
    "options.add_argument('start-maximized')\n",
    "options.add_argument('disable-infobars')\n",
    "options.add_argument('--disable-extensions')\n",
    "options.add_argument(\"--disable-gpu\")"
   ]
  },
  {
   "cell_type": "code",
   "execution_count": 50,
   "metadata": {},
   "outputs": [
    {
     "name": "stderr",
     "output_type": "stream",
     "text": [
      "C:\\Users\\123\\AppData\\Local\\Temp\\ipykernel_5488\\592790249.py:4: DeprecationWarning: executable_path has been deprecated, please pass in a Service object\n",
      "  driver = webdriver.Chrome('/FRT/13.Chrome_Drive/chromedriver.exe')\n"
     ]
    }
   ],
   "source": [
    "# driver_service =Service(executable_path=r'/ChromeDriver/chromedriver.exe')\n",
    "# driver = webdriver.Chrome(service=driver_service,options=options)\n",
    "\n",
    "driver = webdriver.Chrome('/FRT/13.Chrome_Drive/chromedriver.exe')\n",
    "driver.get('https://duocthuquocgia.com/')"
   ]
  },
  {
   "cell_type": "code",
   "execution_count": null,
   "metadata": {},
   "outputs": [],
   "source": [
    "df = pd.DataFrame()\n",
    "Name= []\n",
    "ATC_Code= []\n",
    "Category = []\n",
    "Side_Effect= []\n",
    "Frequent= []\n",
    "Less= []\n",
    "Rare= []\n",
    "Link=[]"
   ]
  },
  {
   "cell_type": "code",
   "execution_count": 63,
   "metadata": {},
   "outputs": [
    {
     "data": {
      "text/plain": [
       "['Acitretin']"
      ]
     },
     "execution_count": 63,
     "metadata": {},
     "output_type": "execute_result"
    }
   ],
   "source": [
    "\n",
    "list=driver.find_elements(By.XPATH,'//*[@id=\"a-z-listing-letter-A-1\"]/ul/li[24]/a')\n",
    "name=[title.text for title in list]\n",
    "link=[title.get_attribute('href')for title in list]\n",
    "# name.append(name)\n",
    "# Link.append(link)\n",
    "name"
   ]
  },
  {
   "cell_type": "code",
   "execution_count": null,
   "metadata": {},
   "outputs": [],
   "source": [
    "\n",
    "\n",
    "\n"
   ]
  },
  {
   "cell_type": "code",
   "execution_count": 39,
   "metadata": {},
   "outputs": [
    {
     "data": {
      "text/plain": [
       "[None]"
      ]
     },
     "execution_count": 39,
     "metadata": {},
     "output_type": "execute_result"
    }
   ],
   "source": [
    "cate = [i.get_attribute('href') for i in CATE]"
   ]
  },
  {
   "cell_type": "code",
   "execution_count": null,
   "metadata": {},
   "outputs": [],
   "source": [
    "for cate in CATE:\n",
    "    for compound in cate:\n",
    "        name_cate=compound.find_elements(By.XPATH,'//*[@id=\"a-z-listing-letter-A-1\"]/ul')\n",
    "        for name_list in name_cate:\n",
    "            name=name_list.find_elements(By.XPATH,'//*[@id=\"a-z-listing-letter-A-1\"]/ul/li[1]')\n",
    "            name.click()\n",
    "        "
   ]
  },
  {
   "cell_type": "code",
   "execution_count": 30,
   "metadata": {},
   "outputs": [
    {
     "name": "stdout",
     "output_type": "stream",
     "text": [
      "0\n"
     ]
    }
   ],
   "source": []
  },
  {
   "cell_type": "code",
   "execution_count": null,
   "metadata": {},
   "outputs": [],
   "source": []
  },
  {
   "cell_type": "code",
   "execution_count": null,
   "metadata": {},
   "outputs": [],
   "source": []
  }
 ],
 "metadata": {
  "kernelspec": {
   "display_name": "Python 3",
   "language": "python",
   "name": "python3"
  },
  "language_info": {
   "codemirror_mode": {
    "name": "ipython",
    "version": 3
   },
   "file_extension": ".py",
   "mimetype": "text/x-python",
   "name": "python",
   "nbconvert_exporter": "python",
   "pygments_lexer": "ipython3",
   "version": "3.11.1"
  },
  "orig_nbformat": 4,
  "vscode": {
   "interpreter": {
    "hash": "753cdb51eeb1af3293e11b716091203ff3686960950cb9e53bc5e221b99467e5"
   }
  }
 },
 "nbformat": 4,
 "nbformat_minor": 2
}
